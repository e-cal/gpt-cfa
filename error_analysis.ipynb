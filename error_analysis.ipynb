{
 "cells": [
  {
   "cell_type": "markdown",
   "id": "b1aa2b86",
   "metadata": {},
   "source": [
    "# Init"
   ]
  },
  {
   "cell_type": "code",
   "execution_count": null,
   "id": "fe9f6e54",
   "metadata": {},
   "outputs": [],
   "source": [
    "import pandas as pd\n",
    "import glob"
   ]
  },
  {
   "cell_type": "code",
   "execution_count": null,
   "id": "1c575c6f-305d-4809-8888-49de398d34b1",
   "metadata": {},
   "outputs": [],
   "source": [
    "model = \"gpt4\"\n",
    "level = \"l1\""
   ]
  },
  {
   "cell_type": "code",
   "execution_count": null,
   "id": "a9944147-3452-4c8e-88c5-57fd8555c034",
   "metadata": {},
   "outputs": [],
   "source": [
    "df = pd.DataFrame()\n",
    "files = sorted(\n",
    "    glob.glob(f\"attempts/{level}/{model}*\"),\n",
    "    key=lambda x: int(x.split(\"_\")[-1].split(\".\")[0]),\n",
    ")\n",
    "for i, fp in enumerate(files):\n",
    "    fdf = pd.read_csv(fp)\n",
    "    fdf[\"test\"] = i+1\n",
    "    df = pd.concat([df, fdf], ignore_index=True)\n",
    "df[\"test\"].unique()"
   ]
  },
  {
   "cell_type": "code",
   "execution_count": null,
   "id": "647cecc9-7d8c-46c3-98f1-736a92756559",
   "metadata": {},
   "outputs": [],
   "source": [
    "dfcot = pd.DataFrame()\n",
    "files = sorted(\n",
    "    glob.glob(f\"attempts/{level}/cot/{model}*\"),\n",
    "    key=lambda x: int(x.split(\"_\")[-1].split(\".\")[0]),\n",
    ")\n",
    "for i, fp in enumerate(files):\n",
    "    fdf = pd.read_csv(fp)\n",
    "    fdf[\"test\"] = i+1\n",
    "    dfcot = pd.concat([dfcot, fdf], ignore_index=True)\n",
    "dfcot[\"test\"].unique()"
   ]
  },
  {
   "cell_type": "markdown",
   "id": "71dd81fc",
   "metadata": {},
   "source": [
    "# Results"
   ]
  },
  {
   "cell_type": "markdown",
   "id": "d38376e3",
   "metadata": {},
   "source": [
    "## By chapter"
   ]
  },
  {
   "cell_type": "code",
   "execution_count": null,
   "id": "1ee9de77",
   "metadata": {
    "editable": true,
    "slideshow": {
     "slide_type": ""
    }
   },
   "outputs": [],
   "source": [
    "# Questions per chapter\n",
    "df[\"chapter_name\"].value_counts()"
   ]
  },
  {
   "cell_type": "code",
   "execution_count": null,
   "id": "a4e373d4",
   "metadata": {},
   "outputs": [],
   "source": [
    "# Chapter % of test\n",
    "df[\"chapter_name\"].value_counts() / len(df) * 100"
   ]
  },
  {
   "cell_type": "code",
   "execution_count": null,
   "id": "3d015527",
   "metadata": {},
   "outputs": [],
   "source": [
    "# No CoT\n",
    "spacing = max(map(len, df[\"chapter_name\"].unique())) + 4\n",
    "for chapter in df[\"chapter_name\"].unique():\n",
    "    df_chapter = df[df[\"chapter_name\"] == chapter]\n",
    "    num_correct = sum(df_chapter[\"correct\"] == \"yes\")\n",
    "    score = num_correct / len(df_chapter)\n",
    "    spacer = \" \" * (spacing - len(chapter))\n",
    "\n",
    "    print(\n",
    "        f\"  {chapter}:{spacer}{num_correct:>3}/{len(df_chapter):<3}  {score*100:.2f}%\"\n",
    "    )"
   ]
  },
  {
   "cell_type": "code",
   "execution_count": null,
   "id": "3653aaeb",
   "metadata": {},
   "outputs": [],
   "source": [
    "# CoT\n",
    "spacing = max(map(len, dfcot[\"chapter_name\"].unique())) + 4\n",
    "for chapter in dfcot[\"chapter_name\"].unique():\n",
    "    dfcot_chapter = dfcot[dfcot[\"chapter_name\"] == chapter]\n",
    "    num_correct = sum(dfcot_chapter[\"correct\"] == \"yes\")\n",
    "    score = num_correct / len(dfcot_chapter)\n",
    "    spacer = \" \" * (spacing - len(chapter))\n",
    "\n",
    "    print(\n",
    "        f\"  {chapter}:{spacer}{num_correct:>3}/{len(dfcot_chapter):<3}  {score*100:.2f}%\"\n",
    "    )"
   ]
  },
  {
   "cell_type": "code",
   "execution_count": null,
   "id": "c6567361-1382-4f1e-8d29-b44f7b67b777",
   "metadata": {},
   "outputs": [],
   "source": [
    "spacing = max(map(len, dfcot[\"chapter_name\"].unique())) + 4\n",
    "for chapter in dfcot[\"chapter_name\"].unique():\n",
    "    df_chapter = df[df[\"chapter_name\"] == chapter]\n",
    "    dfcot_chapter = dfcot[dfcot[\"chapter_name\"] == chapter]\n",
    "    num_correct = sum(df_chapter[\"correct\"] == \"yes\")\n",
    "    num_correct_cot = sum(dfcot_chapter[\"correct\"] == \"yes\")\n",
    "    score = num_correct / len(dfcot_chapter)\n",
    "    score_cot = num_correct_cot / len(dfcot_chapter)\n",
    "    spacer = \" \" * (spacing - len(chapter))\n",
    "\n",
    "    symbol = \"<\" if score < score_cot else \">\" if score > score_cot else \"=\"\n",
    "    print(\n",
    "        f\"  {chapter}:{spacer}  noCoT ({score*100:.2f}%)   {symbol}  CoT ({score_cot*100:.2f}%)\"\n",
    "    )"
   ]
  },
  {
   "cell_type": "code",
   "execution_count": null,
   "id": "08b0a2b9-bd70-4139-a3bc-913a8192fb29",
   "metadata": {
    "lines_to_next_cell": 2
   },
   "outputs": [],
   "source": [
    "len(dfcot)"
   ]
  },
  {
   "cell_type": "code",
   "execution_count": null,
   "id": "dce3b410-fe77-4b9c-a7ba-d0de354a9350",
   "metadata": {},
   "outputs": [],
   "source": [
    "dfcot.columns"
   ]
  },
  {
   "cell_type": "code",
   "execution_count": null,
   "id": "721aebd4-53c9-4d0f-af69-b74a74f7cc30",
   "metadata": {},
   "outputs": [],
   "source": [
    "list(dfcot[\"chapter_name\"].unique())"
   ]
  },
  {
   "cell_type": "code",
   "execution_count": null,
   "id": "5e1393f1-4809-455f-95fd-0a494202df5d",
   "metadata": {
    "scrolled": true
   },
   "outputs": [],
   "source": [
    "dfcot_wrong = dfcot[(dfcot[\"correct\"] == \"no\") & (df[\"correct\"] == \"yes\")]\n",
    "print(f\"cot got {len(dfcot_wrong)} wrong nocot got right\")\n",
    "for chapter in dfcot_wrong[\"chapter_name\"].unique():\n",
    "    print(f\"{len(dfcot_wrong[dfcot_wrong['chapter_name'] == chapter])} in {chapter}\")"
   ]
  },
  {
   "cell_type": "code",
   "execution_count": null,
   "id": "a7f6e695-fb53-4760-bbce-8a37f0029121",
   "metadata": {},
   "outputs": [],
   "source": [
    "cols = [\n",
    "    \"id\",\n",
    "    \"test\",\n",
    "    \"chapter_name\", \n",
    "    \"question\", \n",
    "    \"choice_a\", \n",
    "    \"choice_b\", \n",
    "    \"choice_c\", \n",
    "    \"answer\",\n",
    "    \"explanation\",\n",
    "    \"guess\",\n",
    "    \"correct\",\n",
    "    \"thinking\"\n",
    "]\n",
    "chapters =  [\n",
    " 'Quantitative Methods',\n",
    " 'Economics',\n",
    " 'Financial Statement Analysis',\n",
    " 'Corporate Issuers',\n",
    " 'Ethics',\n",
    " 'Equity',\n",
    " 'Fixed Income',\n",
    " 'Derivatives',\n",
    " 'Alternative Investments',\n",
    " 'Portfolio Management',\n",
    "]\n",
    "\n",
    "lookat = dfcot_wrong[dfcot_wrong[\"chapter_name\"].isin(chapters)]\n",
    "\n",
    "for idx, row in lookat.iterrows():\n",
    "    for col, val in row[cols].items():\n",
    "        if col == \"id\":\n",
    "            print(\"#\", col, val)\n",
    "        else:\n",
    "            print(\"###\", col)\n",
    "            if type(val) == str:\n",
    "                print(val.replace(\"<p>\", \"\").replace(\"</p>\", \"\"))\n",
    "            else:\n",
    "                print(val)\n",
    "        print()"
   ]
  },
  {
   "cell_type": "code",
   "execution_count": null,
   "id": "2a707b0a-fc70-4fb3-a2a8-a9f78064e31c",
   "metadata": {
    "lines_to_next_cell": 2
   },
   "outputs": [],
   "source": [
    "# get error analysis from markdown\n",
    "\n",
    "# make sure index is reset\n",
    "dfcot_wrong.reset_index(inplace=True)\n",
    "dfcot_wrong[\"error_kind\"] = \"\"\n",
    "dfcot_wrong[\"error\"] = \"\"\n",
    "with open(\"analysis/gpt4_cot_wrong_nocot_right.md\") as f:\n",
    "    idx = -1\n",
    "    error_kind = False\n",
    "    error = False\n",
    "    for line in f.readlines():\n",
    "        if error_kind:\n",
    "            dfcot_wrong.loc[idx, \"error_kind\"] = line.strip()\n",
    "            error_kind = False\n",
    "        if error:\n",
    "            dfcot_wrong.loc[idx, \"error\"] = line.strip()\n",
    "            error = False\n",
    "        if line.startswith(\"# id\"):\n",
    "            idx += 1\n",
    "        if line.startswith(\"### error_kind\"):\n",
    "            error_kind = True\n",
    "        elif line.startswith(\"### error\"):\n",
    "            error = True"
   ]
  },
  {
   "cell_type": "code",
   "execution_count": null,
   "id": "5f91fa01",
   "metadata": {},
   "outputs": [],
   "source": [
    "len(dfcot_wrong)"
   ]
  },
  {
   "cell_type": "code",
   "execution_count": null,
   "id": "4f1b84c4",
   "metadata": {},
   "outputs": [],
   "source": [
    "dfcot_wrong[\"error_kind\"].value_counts() / len(dfcot_wrong) * 100"
   ]
  },
  {
   "cell_type": "code",
   "execution_count": null,
   "id": "182ee992",
   "metadata": {},
   "outputs": [],
   "source": [
    "2/len(dfcot_wrong) * 100"
   ]
  }
 ],
 "metadata": {
  "kernelspec": {
   "display_name": "ai",
   "language": "python",
   "name": "python3"
  },
  "language_info": {
   "codemirror_mode": {
    "name": "ipython",
    "version": 3
   },
   "file_extension": ".py",
   "mimetype": "text/x-python",
   "name": "python",
   "nbconvert_exporter": "python",
   "pygments_lexer": "ipython3",
   "version": "3.11.3"
  }
 },
 "nbformat": 4,
 "nbformat_minor": 5
}
