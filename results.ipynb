{
 "cells": [
  {
   "cell_type": "markdown",
   "id": "a5a421e4",
   "metadata": {},
   "source": [
    "# Setup"
   ]
  },
  {
   "cell_type": "code",
   "execution_count": null,
   "id": "a36a4b93",
   "metadata": {},
   "outputs": [],
   "source": [
    "%autosave 0"
   ]
  },
  {
   "cell_type": "code",
   "execution_count": null,
   "id": "151523cb",
   "metadata": {},
   "outputs": [],
   "source": [
    "import numpy as np\n",
    "import pandas as pd"
   ]
  },
  {
   "cell_type": "markdown",
   "id": "bf528580",
   "metadata": {},
   "source": [
    "# Load data"
   ]
  },
  {
   "cell_type": "code",
   "execution_count": null,
   "id": "23f5f236",
   "metadata": {
    "lines_to_next_cell": 2
   },
   "outputs": [],
   "source": [
    "# fmt: off\n",
    "dfs = {\n",
    "    \"wiley\": pd.read_csv(f\"./attempts/chatgpt_nothought_l1_2017_wiley.csv\"),\n",
    "    \"frm_am\": pd.read_csv(f\"./attempts/chatgpt_nothought_l1_2019_frm_am.csv\"),\n",
    "    # \"frm_am\": pd.read_csv(f\"./attempts/chatgpt_l1_2019_frm_am.csv\"),\n",
    "    \"frm_pm\": pd.read_csv(f\"./attempts/chatgpt_nothought_l1_2019_frm_pm.csv\"),    \n",
    "    \n",
    "    # \"pm_investopedia\": pd.read_csv(f\"./attempts/chatgpt_nothought_investopedia_l1_2019_frm_am.csv\"),\n",
    "}\n",
    "# fmt: on"
   ]
  },
  {
   "cell_type": "markdown",
   "id": "7e3dcc51",
   "metadata": {},
   "source": [
    "# Analysis"
   ]
  },
  {
   "cell_type": "markdown",
   "id": "e82cb5d8",
   "metadata": {},
   "source": [
    "## Test Scores"
   ]
  },
  {
   "cell_type": "code",
   "execution_count": null,
   "id": "8646f68c",
   "metadata": {},
   "outputs": [],
   "source": [
    "for name, df in dfs.items():\n",
    "    print(name, end=\": \")\n",
    "    print(f\"{sum(df['correct'] == 'yes') / len(df) * 100:.2f}%\")"
   ]
  },
  {
   "cell_type": "code",
   "execution_count": null,
   "id": "2c37bf4a",
   "metadata": {},
   "outputs": [],
   "source": [
    "dfs_wrong = {}\n",
    "for name, df in dfs.items():\n",
    "    dfs_wrong[name] = df[df[\"correct\"] == \"no\"]"
   ]
  },
  {
   "cell_type": "code",
   "execution_count": null,
   "id": "ca4df94c",
   "metadata": {},
   "outputs": [],
   "source": [
    "dfs_right = {}\n",
    "for name, df in dfs.items():\n",
    "    dfs_right[name] = df[df[\"correct\"] == \"yes\"]"
   ]
  },
  {
   "cell_type": "code",
   "execution_count": null,
   "id": "95ad1c21",
   "metadata": {},
   "outputs": [],
   "source": [
    "merge_cols = [\n",
    "    \"question\",\n",
    "    \"A\",\n",
    "    \"B\",\n",
    "    \"C\",\n",
    "    \"answer\",\n",
    "    \"explanation\",\n",
    "    \"category\",  # not in wiley exam\n",
    "    \"guess\",\n",
    "]\n",
    "first = True\n",
    "same_guess: pd.DataFrame = None  # type: ignore\n",
    "for name, df in dfs_wrong.items():\n",
    "    if first:\n",
    "        same_guess = df\n",
    "        first = False\n",
    "    else:\n",
    "        same_guess = same_guess.merge(df, on=merge_cols, how=\"inner\", suffixes=[\"_\" + prev, \"_\" + name])  # type: ignore\n",
    "    prev = name\n",
    "same_guess.rename(columns={\"correct\": \"correct_\" + prev}, inplace=True)  # type: ignore\n",
    "same_guess.head()"
   ]
  },
  {
   "cell_type": "code",
   "execution_count": null,
   "id": "a143cc61",
   "metadata": {
    "lines_to_next_cell": 2
   },
   "outputs": [],
   "source": [
    "merge_cols = [\n",
    "    \"question\",\n",
    "    \"A\",\n",
    "    \"B\",\n",
    "    \"C\",\n",
    "    \"answer\",\n",
    "    \"explanation\",\n",
    "    \"category\",  # not in wiley exam\n",
    "    \"correct\",\n",
    "]\n",
    "first = True\n",
    "same_result: pd.DataFrame = None  # type: ignore\n",
    "for name, df in dfs_wrong.items():\n",
    "    if first:\n",
    "        same_result = df\n",
    "        first = False\n",
    "    else:\n",
    "        same_result = same_result.merge(df, on=merge_cols, how=\"inner\", suffixes=[\"_\" + prev, \"_\" + name])  # type: ignore\n",
    "    prev = name\n",
    "same_result.rename(columns={\"guess\": \"guess_\" + prev}, inplace=True)  # type: ignore\n",
    "same_result.head()"
   ]
  },
  {
   "cell_type": "code",
   "execution_count": null,
   "id": "a9a8a040",
   "metadata": {},
   "outputs": [],
   "source": [
    "# peek a wrong answer\n",
    "i = 2\n",
    "print(chatgptwrong.iloc[i][\"answer\"])\n",
    "print(chatgptwrong.iloc[i][\"guess\"])\n",
    "print()\n",
    "print(chatgptwrong.iloc[i][\"thinking\"])\n",
    "print()\n",
    "print(chatgptwrong.iloc[i][\"explanation\"])"
   ]
  },
  {
   "cell_type": "code",
   "execution_count": null,
   "id": "d4a014f8",
   "metadata": {},
   "outputs": [],
   "source": [
    "print(gpt4wrong.iloc[i][\"answer\"])\n",
    "print(gpt4wrong.iloc[i][\"guess\"])\n",
    "print()\n",
    "print(gpt4wrong.iloc[i][\"thinking\"])\n",
    "print()\n",
    "print(gpt4wrong.iloc[i][\"explanation\"])"
   ]
  },
  {
   "cell_type": "code",
   "execution_count": null,
   "id": "5d350d96",
   "metadata": {},
   "outputs": [],
   "source": [
    "labelled = pd.read_csv(f\"data/l1_labelled.csv\")\n",
    "\n",
    "chatgpt[[\"math\", \"knowledge\", \"reasoning\"]] = labelled[[\"math\", \"knowledge\", \"reasoning\"]]  # fmt: skip\n",
    "gpt4[[\"math\", \"knowledge\", \"reasoning\"]] = labelled[[\"math\", \"knowledge\", \"reasoning\"]]"
   ]
  },
  {
   "cell_type": "code",
   "execution_count": null,
   "id": "1692be4a",
   "metadata": {},
   "outputs": [],
   "source": [
    "# math\n",
    "print(\n",
    "    sum(chatgpt[chatgpt[\"math\"]][\"correct\"] == \"yes\")\n",
    "    / len(chatgpt[chatgpt[\"math\"]])\n",
    "    * 100\n",
    ")\n",
    "print(sum(gpt4[gpt4[\"math\"]][\"correct\"] == \"yes\") / len(gpt4[gpt4[\"math\"]]) * 100)"
   ]
  },
  {
   "cell_type": "code",
   "execution_count": null,
   "id": "bd9c25c4",
   "metadata": {},
   "outputs": [],
   "source": [
    "# knowledge\n",
    "print(\"knowledge\")\n",
    "chatgptknowledge = chatgpt[chatgpt[\"knowledge\"]]\n",
    "print(sum(chatgptknowledge[\"correct\"] == \"yes\") / len(chatgptknowledge) * 100)\n",
    "gpt4knowledge = gpt4[gpt4[\"knowledge\"]]\n",
    "print(sum(gpt4knowledge[\"correct\"] == \"yes\") / len(gpt4knowledge) * 100)\n",
    "\n",
    "print()\n",
    "# knowledge - math\n",
    "print(\"knowledge - math\")\n",
    "chatgptknowledge = chatgptknowledge[~chatgptknowledge[\"math\"]]\n",
    "print(sum(chatgptknowledge[\"correct\"] == \"yes\") / len(chatgptknowledge) * 100)\n",
    "gpt4knowledge = gpt4knowledge[~gpt4knowledge[\"math\"]]\n",
    "print(sum(gpt4knowledge[\"correct\"] == \"yes\") / len(gpt4knowledge) * 100)\n",
    "\n",
    "print()\n",
    "# knowledge - math & reasoning\n",
    "print(\"knowledge - math & reasoning\")\n",
    "chatgptknowledge = chatgptknowledge[~chatgptknowledge[\"reasoning\"]]\n",
    "print(sum(chatgptknowledge[\"correct\"] == \"yes\") / len(chatgptknowledge) * 100)\n",
    "gpt4knowledge = gpt4knowledge[~gpt4knowledge[\"reasoning\"]]\n",
    "print(sum(gpt4knowledge[\"correct\"] == \"yes\") / len(gpt4knowledge) * 100)"
   ]
  },
  {
   "cell_type": "code",
   "execution_count": null,
   "id": "26b2e00e",
   "metadata": {},
   "outputs": [],
   "source": [
    "# reasoning\n",
    "print(\"reasoning\")\n",
    "chatgptreasoning = chatgpt[chatgpt[\"reasoning\"]]\n",
    "print(sum(chatgptreasoning[\"correct\"] == \"yes\") / len(chatgptreasoning) * 100)\n",
    "gpt4reasoning = gpt4[gpt4[\"reasoning\"]]\n",
    "print(sum(gpt4reasoning[\"correct\"] == \"yes\") / len(gpt4reasoning) * 100)\n",
    "\n",
    "print()\n",
    "# reasoning - math\n",
    "print(\"reasoning - math\")\n",
    "chatgptreasoning = chatgptreasoning[~chatgptreasoning[\"math\"]]\n",
    "print(sum(chatgptreasoning[\"correct\"] == \"yes\") / len(chatgptreasoning) * 100)\n",
    "gpt4reasoning = gpt4reasoning[~gpt4reasoning[\"math\"]]\n",
    "print(sum(gpt4reasoning[\"correct\"] == \"yes\") / len(gpt4reasoning) * 100)"
   ]
  },
  {
   "cell_type": "code",
   "execution_count": null,
   "id": "65179a44",
   "metadata": {},
   "outputs": [],
   "source": [
    "# questions both get wrong\n",
    "bothwrong = chatgpt.merge(\n",
    "    gpt4,\n",
    "    on=[\n",
    "        \"question\",\n",
    "        \"correct\",\n",
    "        \"answer\",\n",
    "        \"explanation\",\n",
    "        \"math\",\n",
    "        \"knowledge\",\n",
    "        \"reasoning\",\n",
    "        \"A\",\n",
    "        \"B\",\n",
    "        \"C\",\n",
    "    ],\n",
    "    how=\"inner\",\n",
    ")\n",
    "bothwrong = bothwrong[bothwrong[\"correct\"] == \"no\"]\n",
    "print(len(bothwrong))\n",
    "bothwrong.head()"
   ]
  },
  {
   "cell_type": "code",
   "execution_count": null,
   "id": "43c9123b",
   "metadata": {},
   "outputs": [],
   "source": [
    "for i in range(3):\n",
    "    print(bothwrong.iloc[i][\"question\"])\n",
    "    print()\n",
    "    print(bothwrong.iloc[i][\"guess_x\"])\n",
    "    for line in bothwrong.iloc[i][\"thinking_x\"].split(\"-\"):\n",
    "        print(\"-\", line)\n",
    "    print()\n",
    "    print(bothwrong.iloc[i][\"guess_y\"])\n",
    "    for line in bothwrong.iloc[i][\"thinking_y\"].split(\"-\"):\n",
    "        print(\"-\", line)\n",
    "    print()\n",
    "    print(bothwrong.iloc[i][\"answer\"])\n",
    "    print(bothwrong.iloc[i][\"explanation\"])\n",
    "    print()\n",
    "    print(\"-\" * 80)\n",
    "    print()"
   ]
  },
  {
   "cell_type": "code",
   "execution_count": null,
   "id": "5c95b58d",
   "metadata": {},
   "outputs": [],
   "source": [
    "print(sum(bothwrong[\"math\"]) / len(bothwrong) * 100)\n",
    "print(sum(bothwrong[\"knowledge\"]) / len(bothwrong) * 100)\n",
    "print(sum(bothwrong[\"reasoning\"]) / len(bothwrong) * 100)"
   ]
  },
  {
   "cell_type": "code",
   "execution_count": null,
   "id": "bb278e47",
   "metadata": {},
   "outputs": [],
   "source": [
    "bothright = chatgpt.merge(\n",
    "    gpt4,\n",
    "    on=[\n",
    "        \"question\",\n",
    "        \"correct\",\n",
    "        \"answer\",\n",
    "        \"explanation\",\n",
    "        \"math\",\n",
    "        \"knowledge\",\n",
    "        \"reasoning\",\n",
    "        \"A\",\n",
    "        \"B\",\n",
    "        \"C\",\n",
    "    ],\n",
    "    how=\"inner\",\n",
    ")\n",
    "bothright = bothwrong[bothwrong[\"correct\"] == \"no\"]"
   ]
  },
  {
   "cell_type": "code",
   "execution_count": null,
   "id": "8bb35fdc",
   "metadata": {
    "lines_to_next_cell": 2
   },
   "outputs": [],
   "source": [
    "df = bothwrong[bothwrong[\"math\"]]\n",
    "for _ in range(10):\n",
    "    i = np.random.randint(len(df))\n",
    "    print(f\"question {i}\")\n",
    "    print(df.iloc[i][\"question\"])\n",
    "    print(df.iloc[i][\"A\"])\n",
    "    print(df.iloc[i][\"B\"])\n",
    "    print(df.iloc[i][\"C\"])\n",
    "    print(\"answer\")\n",
    "    print(df.iloc[i][\"answer\"])\n",
    "    print(\"explanation\")\n",
    "    print(df.iloc[i][\"explanation\"])\n",
    "    print()\n",
    "    print(\"gpt3.5\")\n",
    "    print(df.iloc[i][\"guess_x\"])\n",
    "    print(df.iloc[i][\"thinking_x\"])\n",
    "    print()\n",
    "    print(\"gpt4\")\n",
    "    print(df.iloc[i][\"guess_y\"])\n",
    "    print(df.iloc[i][\"thinking_y\"])\n",
    "    print(\"-\" * 80)"
   ]
  },
  {
   "cell_type": "code",
   "execution_count": null,
   "id": "36549eb7",
   "metadata": {},
   "outputs": [],
   "source": [
    "print(bothwrong[bothwrong[\"math\"]].iloc[16])"
   ]
  },
  {
   "cell_type": "code",
   "execution_count": null,
   "id": "afde2211",
   "metadata": {},
   "outputs": [],
   "source": [
    "chatgpt_critique = pd.read_csv(\"chatgpt_critique.csv\")\n",
    "gpt4_critique = pd.read_csv(\"gpt4_critique.csv\")"
   ]
  },
  {
   "cell_type": "code",
   "execution_count": null,
   "id": "3cf1f2ae",
   "metadata": {},
   "outputs": [],
   "source": [
    "len(chatgpt_critique[chatgpt_critique.error == \"math\"])"
   ]
  },
  {
   "cell_type": "code",
   "execution_count": null,
   "id": "f4e8923f",
   "metadata": {},
   "outputs": [],
   "source": [
    "len(chatgpt_critique[chatgpt_critique.error == \"knowledge\"])"
   ]
  },
  {
   "cell_type": "code",
   "execution_count": null,
   "id": "839ae5f6",
   "metadata": {},
   "outputs": [],
   "source": [
    "len(chatgpt_critique[chatgpt_critique.error == \"both\"])"
   ]
  },
  {
   "cell_type": "code",
   "execution_count": null,
   "id": "8fcd72f9",
   "metadata": {},
   "outputs": [],
   "source": [
    "len(gpt4_critique[gpt4_critique.error == \"math\"])"
   ]
  },
  {
   "cell_type": "code",
   "execution_count": null,
   "id": "ea4403a6",
   "metadata": {},
   "outputs": [],
   "source": [
    "len(gpt4_critique[gpt4_critique.error == \"knowledge\"])"
   ]
  },
  {
   "cell_type": "code",
   "execution_count": null,
   "id": "1f2c3101",
   "metadata": {},
   "outputs": [],
   "source": [
    "len(gpt4_critique[gpt4_critique.error == \"both\"])"
   ]
  },
  {
   "cell_type": "code",
   "execution_count": null,
   "id": "5eb0164f",
   "metadata": {},
   "outputs": [],
   "source": [
    "# what percentage was each error\n",
    "print(\"chatgpt\")\n",
    "print(\n",
    "    len(chatgpt_critique[chatgpt_critique.error == \"math\"])\n",
    "    / len(chatgpt_critique)\n",
    "    * 100\n",
    ")\n",
    "print(\n",
    "    len(chatgpt_critique[chatgpt_critique.error == \"knowledge\"])\n",
    "    / len(chatgpt_critique)\n",
    "    * 100\n",
    ")\n",
    "print(\n",
    "    len(chatgpt_critique[chatgpt_critique.error == \"both\"])\n",
    "    / len(chatgpt_critique)\n",
    "    * 100\n",
    ")\n",
    "\n",
    "print()\n",
    "print(\"gpt4\")\n",
    "print(len(gpt4_critique[gpt4_critique.error == \"math\"]) / len(gpt4_critique) * 100)\n",
    "print(len(gpt4_critique[gpt4_critique.error == \"knowledge\"]) / len(gpt4_critique) * 100)\n",
    "print(len(gpt4_critique[gpt4_critique.error == \"both\"]) / len(gpt4_critique) * 100)"
   ]
  },
  {
   "cell_type": "code",
   "execution_count": null,
   "id": "66cea339",
   "metadata": {},
   "outputs": [],
   "source": [
    "row = chatgpt_critique[chatgpt_critique.error == \"math\"].iloc[0]\n",
    "print(row[\"question\"])\n",
    "print(row[\"A\"])\n",
    "print(row[\"B\"])\n",
    "print(row[\"C\"])\n",
    "print(row[\"answer\"])\n",
    "print(row[\"explanation\"])\n",
    "print()\n",
    "print(row[\"guess\"])\n",
    "print(row[\"thinking\"])\n",
    "print()\n",
    "print(row[\"error\"])\n",
    "print(row[\"error_details\"])"
   ]
  }
 ],
 "metadata": {
  "jupytext": {
   "cell_metadata_filter": "-all",
   "formats": "ipynb,py:percent",
   "notebook_metadata_filter": "-all"
  },
  "kernelspec": {
   "display_name": "ai",
   "language": "python",
   "name": "ai"
  },
  "language_info": {
   "codemirror_mode": {
    "name": "ipython",
    "version": 3
   },
   "file_extension": ".py",
   "mimetype": "text/x-python",
   "name": "python",
   "nbconvert_exporter": "python",
   "pygments_lexer": "ipython3",
   "version": "3.11.3"
  }
 },
 "nbformat": 4,
 "nbformat_minor": 5
}
